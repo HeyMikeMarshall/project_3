{
 "cells": [
  {
   "cell_type": "code",
   "execution_count": 2,
   "metadata": {},
   "outputs": [],
   "source": [
    "#!/usr/bin/env/python3\n",
    "\n",
    "import requests, json, time, schedule, functools, threading\n",
    "from datetime import datetime, timedelta \n",
    "from pymongo import MongoClient\n",
    "from config import params\n",
    "\n",
    "stopsurl = 'https://api.wmata.com/Bus.svc/json/jStops'\n",
    "\n",
    "\n",
    "def getStops():\n",
    "    response = requests.get(stopsurl, params=params).json()\n",
    "    client = MongoClient('mongodb://localhost:27017')\n",
    "    db = client['guru_db2']\n",
    "    collection = db['stops']\n",
    "    acqTimeStamp = datetime.now().isoformat()[:-7]\n",
    "    for stop in response['Stops']:\n",
    "        stop['AcqTimeStamp'] = acqTimeStamp\n",
    "        collection.insert_one(stop)  \n",
    "    \n",
    "    client.close()\n",
    "    print(f\"{len(response['Stops'])} stop location records collected.\")\n",
    "        \n",
    "# getStops()"
   ]
  },
  {
   "cell_type": "code",
   "execution_count": 18,
   "metadata": {},
   "outputs": [
    {
     "data": {
      "text/plain": [
       "0"
      ]
     },
     "execution_count": 18,
     "metadata": {},
     "output_type": "execute_result"
    }
   ],
   "source": [
    "client = MongoClient('mongodb://localhost:27017')\n",
    "db = client['guru_db2']\n",
    "collection = db['stops']\n",
    "\n",
    "len(list(db['stops'].find({})))"
   ]
  },
  {
   "cell_type": "code",
   "execution_count": 15,
   "metadata": {},
   "outputs": [],
   "source": [
    "client.close()"
   ]
  },
  {
   "cell_type": "code",
   "execution_count": null,
   "metadata": {},
   "outputs": [],
   "source": []
  }
 ],
 "metadata": {
  "kernelspec": {
   "display_name": "Python 3",
   "language": "python",
   "name": "python3"
  },
  "language_info": {
   "codemirror_mode": {
    "name": "ipython",
    "version": 3
   },
   "file_extension": ".py",
   "mimetype": "text/x-python",
   "name": "python",
   "nbconvert_exporter": "python",
   "pygments_lexer": "ipython3",
   "version": "3.6.7"
  }
 },
 "nbformat": 4,
 "nbformat_minor": 2
}
