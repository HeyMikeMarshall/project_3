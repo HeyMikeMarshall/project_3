{
 "cells": [
  {
   "cell_type": "code",
   "execution_count": 3,
   "metadata": {},
   "outputs": [],
   "source": [
    "#!/usr/bin/env/python3\n",
    "\n",
    "import requests, json, time, schedule, functools, threading\n",
    "from datetime import datetime, timedelta \n",
    "from pymongo import MongoClient\n",
    "from config import params\n",
    "\n",
    "routesurl = 'https://api.wmata.com/Bus.svc/json/jRoutes'\n",
    "\n",
    "\n",
    "## @TODO Add exception handling & change management workflow\n",
    "\n",
    "# def getRoutes():\n",
    "#     client = MongoClient('mongodb://localhost:27017')\n",
    "#     db = client['guru_db2']\n",
    "#     collection = db['routes']\n",
    "#     dblen = collection.count_documents({})\n",
    "\n",
    "#     if dblen == 0:\n",
    "#         print(f\"Routes Collection not found; Initializing Routes Collection\")\n",
    "#         response = requests.get(routesurl, params=params).json()\n",
    "#         acqTimeStamp = datetime.now().isoformat()[:-7]\n",
    "#         for route in response['Routes']:\n",
    "#             route['AcqTimeStamp'] = acqTimeStamp\n",
    "#             collection.insert_one(route)  \n",
    "#         print(f\"{len(response['Routes'])} routes collected.\")\n",
    "#     else:\n",
    "#         print(f\"Route Collection found. Validating existing Route Collection.\")\n",
    "#         response = requests.get(routesurl, params=params).json()\n",
    "#         for route in response['Routes']:\n",
    "#               collection.find_one_and_update(route,route,\n",
    "#                                             projection={'_id':False,'AcqTimeStamp':False},\n",
    "#                                             upsert=True)       \n",
    "              \n",
    "              \n",
    "#     client.close()\n",
    "\n"
   ]
  },
  {
   "cell_type": "code",
   "execution_count": 6,
   "metadata": {},
   "outputs": [],
   "source": [
    "def getRoutes():\n",
    "    client = MongoClient('mongodb://localhost:27017')\n",
    "    db = client['guru_db2']\n",
    "    db.routes.drop()\n",
    "    acqTimeStamp = datetime.now().isoformat()[:-7]\n",
    "    response = requests.get(routesurl, params=params).json()\n",
    "    for route in response['Routes']:\n",
    "        route['AcqTimeStamp'] = acqTimeStamp\n",
    "        db.routes.insert_one(route)  \n",
    "    print(f\"{len(response['Routes'])} routes collected.\")         \n",
    "    client.close()"
   ]
  },
  {
   "cell_type": "code",
   "execution_count": 8,
   "metadata": {},
   "outputs": [
    {
     "name": "stdout",
     "output_type": "stream",
     "text": [
      "477 routes collected.\n"
     ]
    }
   ],
   "source": [
    "getRoutes()"
   ]
  },
  {
   "cell_type": "code",
   "execution_count": null,
   "metadata": {},
   "outputs": [],
   "source": []
  }
 ],
 "metadata": {
  "kernelspec": {
   "display_name": "Python 3",
   "language": "python",
   "name": "python3"
  },
  "language_info": {
   "codemirror_mode": {
    "name": "ipython",
    "version": 3
   },
   "file_extension": ".py",
   "mimetype": "text/x-python",
   "name": "python",
   "nbconvert_exporter": "python",
   "pygments_lexer": "ipython3",
   "version": "3.6.7"
  }
 },
 "nbformat": 4,
 "nbformat_minor": 2
}
