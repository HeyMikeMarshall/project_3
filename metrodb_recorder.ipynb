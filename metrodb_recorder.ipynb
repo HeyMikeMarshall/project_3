{
 "cells": [
  {
   "cell_type": "code",
   "execution_count": 1,
   "metadata": {},
   "outputs": [],
   "source": [
    "import requests, json, time, schedule, functools, threading\n",
    "from datetime import datetime, timedelta \n",
    "from pymongo import MongoClient\n",
    "\n",
    "params = {'api_key': '2936bd0e3513432491fc22451728a327'}\n",
    "busposurl = 'https://api.wmata.com/Bus.svc/json/jBusPositions'\n",
    "busincurl = 'https://api.wmata.com/Incidents.svc/json/BusIncidents'\n",
    "\n",
    "def catch_exceptions(cancel_on_failure=False):\n",
    "    def catch_exceptions_decorator(job_func):\n",
    "        @functools.wraps(job_func)\n",
    "        def wrapper(*args, **kwargs):\n",
    "            try:\n",
    "                return job_func(*args, **kwargs)\n",
    "            except:\n",
    "                import traceback\n",
    "                print(traceback.format_exc())\n",
    "                if cancel_on_failure:\n",
    "                    return schedule.CancelJob\n",
    "        return wrapper\n",
    "    return catch_exceptions_decorator"
   ]
  },
  {
   "cell_type": "code",
   "execution_count": null,
   "metadata": {
    "scrolled": true
   },
   "outputs": [],
   "source": [
    "@catch_exceptions(cancel_on_failure=False)\n",
    "def run_threaded(job_func):\n",
    "    job_thread = threading.Thread(target=job_func)\n",
    "    job_thread.start()\n",
    "\n",
    "\n",
    "@catch_exceptions(cancel_on_failure=False)\n",
    "def getBuses():\n",
    "    response = requests.get(busposurl, params=params).json()\n",
    "    client = MongoClient('mongodb://localhost:27017')\n",
    "\n",
    "    db = client['guru_db2']\n",
    "    collection = db['buspos']\n",
    "    acqTimeStamp = datetime.now().isoformat()[:-4].replace(\".\", \":\")\n",
    "    for bus in response['BusPositions']:\n",
    "        bus['AcqTimeStamp'] = acqTimeStamp\n",
    "        collection.update_one(bus, {'$set':bus}, upsert=True)  \n",
    "    \n",
    "    client.close()\n",
    "    print(f\"{len(response['BusPositions'])} bus location records collected.\")\n",
    "\n",
    "          \n",
    "@catch_exceptions(cancel_on_failure=False)\n",
    "def getBusIncidents():\n",
    "    response = requests.get(busincurl, params=params).json()\n",
    "    client = MongoClient('mongodb://localhost:27017')\n",
    "\n",
    "    db = client['guru_db2']\n",
    "    collection = db['businc']\n",
    "    acqTimeStamp = datetime.now().isoformat()[:-4].replace(\".\", \":\")\n",
    "    for incident in response['BusIncidents']:\n",
    "        incident['AcqTimeStamp'] = acqTimeStamp\n",
    "        collection.update_one(incident, {'$set':incident}, upsert=True)  \n",
    "    \n",
    "    client.close()\n",
    "    print(f\"{len(response['BusIncidents'])} bus incident records collected.\")\n",
    "           \n",
    "          \n",
    "schedule.every(1).minute.do(run_threaded, getBusIncidents)         \n",
    "schedule.every(10).seconds.do(run_threaded, getBuses)"
   ]
  },
  {
   "cell_type": "code",
   "execution_count": null,
   "metadata": {},
   "outputs": [],
   "source": [
    "finish_time = datetime.now() + timedelta(minutes=3)\n",
    "while datetime.now() < finish_time:\n",
    "    schedule.run_pending()\n",
    "    time.sleep(1)"
   ]
  },
  {
   "cell_type": "code",
   "execution_count": null,
   "metadata": {},
   "outputs": [],
   "source": []
  }
 ],
 "metadata": {
  "kernelspec": {
   "display_name": "Python 3",
   "language": "python",
   "name": "python3"
  },
  "language_info": {
   "codemirror_mode": {
    "name": "ipython",
    "version": 3
   },
   "file_extension": ".py",
   "mimetype": "text/x-python",
   "name": "python",
   "nbconvert_exporter": "python",
   "pygments_lexer": "ipython3",
   "version": "3.6.7"
  }
 },
 "nbformat": 4,
 "nbformat_minor": 2
}
